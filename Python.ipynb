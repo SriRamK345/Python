{
  "nbformat": 4,
  "nbformat_minor": 0,
  "metadata": {
    "colab": {
      "provenance": [],
      "authorship_tag": "ABX9TyNoNsz7MNwBJDN8dQX8wbR3",
      "include_colab_link": true
    },
    "kernelspec": {
      "name": "python3",
      "display_name": "Python 3"
    },
    "language_info": {
      "name": "python"
    }
  },
  "cells": [
    {
      "cell_type": "markdown",
      "metadata": {
        "id": "view-in-github",
        "colab_type": "text"
      },
      "source": [
        "<a href=\"https://colab.research.google.com/github/SriRamK345/Python/blob/main/Python.ipynb\" target=\"_parent\"><img src=\"https://colab.research.google.com/assets/colab-badge.svg\" alt=\"Open In Colab\"/></a>"
      ]
    },
    {
      "cell_type": "markdown",
      "source": [
        "Datatype in Python"
      ],
      "metadata": {
        "id": "DxHp5mK9chPe"
      }
    },
    {
      "cell_type": "code",
      "source": [
        "# Python has various built-in data types which can be categorized as follows:\n",
        "# Numeric Types:\n",
        "# int: Represents integer values (e.g., 1, 100, -5).\n",
        "# float: Represents floating-point numbers (e.g., 3.14, -0.5, 2.0).\n",
        "# complex: Represents complex numbers (e.g., 2 + 3j)."
      ],
      "metadata": {
        "id": "_reb_rlwckdT"
      },
      "execution_count": null,
      "outputs": []
    },
    {
      "cell_type": "code",
      "source": [
        "# Sequence Types:\n",
        "# str: Represents a sequence of characters (e.g., \"hello\", \"Python\").\n",
        "# list: An ordered, mutable collection of elements (e.g., [1, 2, \"three\"]).\n",
        "# tuple: An ordered, immutable collection of elements (e.g., (1, 2, \"three\"))."
      ],
      "metadata": {
        "id": "y2SL4et5fb-g"
      },
      "execution_count": null,
      "outputs": []
    },
    {
      "cell_type": "code",
      "source": [
        "# Mapping Type:\n",
        "# dict: Stores data in key-value pairs (e.g., {\"name\": \"Alice\", \"age\": 30})."
      ],
      "metadata": {
        "id": "F4L8vS4JfgB-"
      },
      "execution_count": null,
      "outputs": []
    },
    {
      "cell_type": "code",
      "source": [
        "# Set Types:\n",
        "# set: An unordered collection of unique elements (e.g., {1, 2, 3})."
      ],
      "metadata": {
        "id": "roCrI7zOfgFA"
      },
      "execution_count": null,
      "outputs": []
    },
    {
      "cell_type": "code",
      "source": [
        "# Boolean Type:\n",
        "# bool: Represents logical values True or False."
      ],
      "metadata": {
        "id": "g_C6FKWUfmIf"
      },
      "execution_count": null,
      "outputs": []
    },
    {
      "cell_type": "code",
      "source": [
        "import math"
      ],
      "metadata": {
        "id": "ueZM4Cjdfwv9"
      },
      "execution_count": null,
      "outputs": []
    },
    {
      "cell_type": "code",
      "source": [
        "dir(math)"
      ],
      "metadata": {
        "colab": {
          "base_uri": "https://localhost:8080/"
        },
        "id": "xMiaaU15fwzA",
        "outputId": "d690da0a-b258-4e79-999a-dbd03b1ae7a2"
      },
      "execution_count": null,
      "outputs": [
        {
          "output_type": "execute_result",
          "data": {
            "text/plain": [
              "['__doc__',\n",
              " '__loader__',\n",
              " '__name__',\n",
              " '__package__',\n",
              " '__spec__',\n",
              " 'acos',\n",
              " 'acosh',\n",
              " 'asin',\n",
              " 'asinh',\n",
              " 'atan',\n",
              " 'atan2',\n",
              " 'atanh',\n",
              " 'ceil',\n",
              " 'comb',\n",
              " 'copysign',\n",
              " 'cos',\n",
              " 'cosh',\n",
              " 'degrees',\n",
              " 'dist',\n",
              " 'e',\n",
              " 'erf',\n",
              " 'erfc',\n",
              " 'exp',\n",
              " 'expm1',\n",
              " 'fabs',\n",
              " 'factorial',\n",
              " 'floor',\n",
              " 'fmod',\n",
              " 'frexp',\n",
              " 'fsum',\n",
              " 'gamma',\n",
              " 'gcd',\n",
              " 'hypot',\n",
              " 'inf',\n",
              " 'isclose',\n",
              " 'isfinite',\n",
              " 'isinf',\n",
              " 'isnan',\n",
              " 'isqrt',\n",
              " 'lcm',\n",
              " 'ldexp',\n",
              " 'lgamma',\n",
              " 'log',\n",
              " 'log10',\n",
              " 'log1p',\n",
              " 'log2',\n",
              " 'modf',\n",
              " 'nan',\n",
              " 'nextafter',\n",
              " 'perm',\n",
              " 'pi',\n",
              " 'pow',\n",
              " 'prod',\n",
              " 'radians',\n",
              " 'remainder',\n",
              " 'sin',\n",
              " 'sinh',\n",
              " 'sqrt',\n",
              " 'tan',\n",
              " 'tanh',\n",
              " 'tau',\n",
              " 'trunc',\n",
              " 'ulp']"
            ]
          },
          "metadata": {},
          "execution_count": 2
        }
      ]
    },
    {
      "cell_type": "code",
      "source": [
        "help(math)"
      ],
      "metadata": {
        "colab": {
          "base_uri": "https://localhost:8080/"
        },
        "id": "RrwSnvrNf6jC",
        "outputId": "2e2e70e5-6480-48eb-fb7b-183075179dbc"
      },
      "execution_count": null,
      "outputs": [
        {
          "output_type": "stream",
          "name": "stdout",
          "text": [
            "Help on built-in module math:\n",
            "\n",
            "NAME\n",
            "    math\n",
            "\n",
            "DESCRIPTION\n",
            "    This module provides access to the mathematical functions\n",
            "    defined by the C standard.\n",
            "\n",
            "FUNCTIONS\n",
            "    acos(x, /)\n",
            "        Return the arc cosine (measured in radians) of x.\n",
            "        \n",
            "        The result is between 0 and pi.\n",
            "    \n",
            "    acosh(x, /)\n",
            "        Return the inverse hyperbolic cosine of x.\n",
            "    \n",
            "    asin(x, /)\n",
            "        Return the arc sine (measured in radians) of x.\n",
            "        \n",
            "        The result is between -pi/2 and pi/2.\n",
            "    \n",
            "    asinh(x, /)\n",
            "        Return the inverse hyperbolic sine of x.\n",
            "    \n",
            "    atan(x, /)\n",
            "        Return the arc tangent (measured in radians) of x.\n",
            "        \n",
            "        The result is between -pi/2 and pi/2.\n",
            "    \n",
            "    atan2(y, x, /)\n",
            "        Return the arc tangent (measured in radians) of y/x.\n",
            "        \n",
            "        Unlike atan(y/x), the signs of both x and y are considered.\n",
            "    \n",
            "    atanh(x, /)\n",
            "        Return the inverse hyperbolic tangent of x.\n",
            "    \n",
            "    ceil(x, /)\n",
            "        Return the ceiling of x as an Integral.\n",
            "        \n",
            "        This is the smallest integer >= x.\n",
            "    \n",
            "    comb(n, k, /)\n",
            "        Number of ways to choose k items from n items without repetition and without order.\n",
            "        \n",
            "        Evaluates to n! / (k! * (n - k)!) when k <= n and evaluates\n",
            "        to zero when k > n.\n",
            "        \n",
            "        Also called the binomial coefficient because it is equivalent\n",
            "        to the coefficient of k-th term in polynomial expansion of the\n",
            "        expression (1 + x)**n.\n",
            "        \n",
            "        Raises TypeError if either of the arguments are not integers.\n",
            "        Raises ValueError if either of the arguments are negative.\n",
            "    \n",
            "    copysign(x, y, /)\n",
            "        Return a float with the magnitude (absolute value) of x but the sign of y.\n",
            "        \n",
            "        On platforms that support signed zeros, copysign(1.0, -0.0)\n",
            "        returns -1.0.\n",
            "    \n",
            "    cos(x, /)\n",
            "        Return the cosine of x (measured in radians).\n",
            "    \n",
            "    cosh(x, /)\n",
            "        Return the hyperbolic cosine of x.\n",
            "    \n",
            "    degrees(x, /)\n",
            "        Convert angle x from radians to degrees.\n",
            "    \n",
            "    dist(p, q, /)\n",
            "        Return the Euclidean distance between two points p and q.\n",
            "        \n",
            "        The points should be specified as sequences (or iterables) of\n",
            "        coordinates.  Both inputs must have the same dimension.\n",
            "        \n",
            "        Roughly equivalent to:\n",
            "            sqrt(sum((px - qx) ** 2.0 for px, qx in zip(p, q)))\n",
            "    \n",
            "    erf(x, /)\n",
            "        Error function at x.\n",
            "    \n",
            "    erfc(x, /)\n",
            "        Complementary error function at x.\n",
            "    \n",
            "    exp(x, /)\n",
            "        Return e raised to the power of x.\n",
            "    \n",
            "    expm1(x, /)\n",
            "        Return exp(x)-1.\n",
            "        \n",
            "        This function avoids the loss of precision involved in the direct evaluation of exp(x)-1 for small x.\n",
            "    \n",
            "    fabs(x, /)\n",
            "        Return the absolute value of the float x.\n",
            "    \n",
            "    factorial(x, /)\n",
            "        Find x!.\n",
            "        \n",
            "        Raise a ValueError if x is negative or non-integral.\n",
            "    \n",
            "    floor(x, /)\n",
            "        Return the floor of x as an Integral.\n",
            "        \n",
            "        This is the largest integer <= x.\n",
            "    \n",
            "    fmod(x, y, /)\n",
            "        Return fmod(x, y), according to platform C.\n",
            "        \n",
            "        x % y may differ.\n",
            "    \n",
            "    frexp(x, /)\n",
            "        Return the mantissa and exponent of x, as pair (m, e).\n",
            "        \n",
            "        m is a float and e is an int, such that x = m * 2.**e.\n",
            "        If x is 0, m and e are both 0.  Else 0.5 <= abs(m) < 1.0.\n",
            "    \n",
            "    fsum(seq, /)\n",
            "        Return an accurate floating point sum of values in the iterable seq.\n",
            "        \n",
            "        Assumes IEEE-754 floating point arithmetic.\n",
            "    \n",
            "    gamma(x, /)\n",
            "        Gamma function at x.\n",
            "    \n",
            "    gcd(*integers)\n",
            "        Greatest Common Divisor.\n",
            "    \n",
            "    hypot(...)\n",
            "        hypot(*coordinates) -> value\n",
            "        \n",
            "        Multidimensional Euclidean distance from the origin to a point.\n",
            "        \n",
            "        Roughly equivalent to:\n",
            "            sqrt(sum(x**2 for x in coordinates))\n",
            "        \n",
            "        For a two dimensional point (x, y), gives the hypotenuse\n",
            "        using the Pythagorean theorem:  sqrt(x*x + y*y).\n",
            "        \n",
            "        For example, the hypotenuse of a 3/4/5 right triangle is:\n",
            "        \n",
            "            >>> hypot(3.0, 4.0)\n",
            "            5.0\n",
            "    \n",
            "    isclose(a, b, *, rel_tol=1e-09, abs_tol=0.0)\n",
            "        Determine whether two floating point numbers are close in value.\n",
            "        \n",
            "          rel_tol\n",
            "            maximum difference for being considered \"close\", relative to the\n",
            "            magnitude of the input values\n",
            "          abs_tol\n",
            "            maximum difference for being considered \"close\", regardless of the\n",
            "            magnitude of the input values\n",
            "        \n",
            "        Return True if a is close in value to b, and False otherwise.\n",
            "        \n",
            "        For the values to be considered close, the difference between them\n",
            "        must be smaller than at least one of the tolerances.\n",
            "        \n",
            "        -inf, inf and NaN behave similarly to the IEEE 754 Standard.  That\n",
            "        is, NaN is not close to anything, even itself.  inf and -inf are\n",
            "        only close to themselves.\n",
            "    \n",
            "    isfinite(x, /)\n",
            "        Return True if x is neither an infinity nor a NaN, and False otherwise.\n",
            "    \n",
            "    isinf(x, /)\n",
            "        Return True if x is a positive or negative infinity, and False otherwise.\n",
            "    \n",
            "    isnan(x, /)\n",
            "        Return True if x is a NaN (not a number), and False otherwise.\n",
            "    \n",
            "    isqrt(n, /)\n",
            "        Return the integer part of the square root of the input.\n",
            "    \n",
            "    lcm(*integers)\n",
            "        Least Common Multiple.\n",
            "    \n",
            "    ldexp(x, i, /)\n",
            "        Return x * (2**i).\n",
            "        \n",
            "        This is essentially the inverse of frexp().\n",
            "    \n",
            "    lgamma(x, /)\n",
            "        Natural logarithm of absolute value of Gamma function at x.\n",
            "    \n",
            "    log(...)\n",
            "        log(x, [base=math.e])\n",
            "        Return the logarithm of x to the given base.\n",
            "        \n",
            "        If the base not specified, returns the natural logarithm (base e) of x.\n",
            "    \n",
            "    log10(x, /)\n",
            "        Return the base 10 logarithm of x.\n",
            "    \n",
            "    log1p(x, /)\n",
            "        Return the natural logarithm of 1+x (base e).\n",
            "        \n",
            "        The result is computed in a way which is accurate for x near zero.\n",
            "    \n",
            "    log2(x, /)\n",
            "        Return the base 2 logarithm of x.\n",
            "    \n",
            "    modf(x, /)\n",
            "        Return the fractional and integer parts of x.\n",
            "        \n",
            "        Both results carry the sign of x and are floats.\n",
            "    \n",
            "    nextafter(x, y, /)\n",
            "        Return the next floating-point value after x towards y.\n",
            "    \n",
            "    perm(n, k=None, /)\n",
            "        Number of ways to choose k items from n items without repetition and with order.\n",
            "        \n",
            "        Evaluates to n! / (n - k)! when k <= n and evaluates\n",
            "        to zero when k > n.\n",
            "        \n",
            "        If k is not specified or is None, then k defaults to n\n",
            "        and the function returns n!.\n",
            "        \n",
            "        Raises TypeError if either of the arguments are not integers.\n",
            "        Raises ValueError if either of the arguments are negative.\n",
            "    \n",
            "    pow(x, y, /)\n",
            "        Return x**y (x to the power of y).\n",
            "    \n",
            "    prod(iterable, /, *, start=1)\n",
            "        Calculate the product of all the elements in the input iterable.\n",
            "        \n",
            "        The default start value for the product is 1.\n",
            "        \n",
            "        When the iterable is empty, return the start value.  This function is\n",
            "        intended specifically for use with numeric values and may reject\n",
            "        non-numeric types.\n",
            "    \n",
            "    radians(x, /)\n",
            "        Convert angle x from degrees to radians.\n",
            "    \n",
            "    remainder(x, y, /)\n",
            "        Difference between x and the closest integer multiple of y.\n",
            "        \n",
            "        Return x - n*y where n*y is the closest integer multiple of y.\n",
            "        In the case where x is exactly halfway between two multiples of\n",
            "        y, the nearest even value of n is used. The result is always exact.\n",
            "    \n",
            "    sin(x, /)\n",
            "        Return the sine of x (measured in radians).\n",
            "    \n",
            "    sinh(x, /)\n",
            "        Return the hyperbolic sine of x.\n",
            "    \n",
            "    sqrt(x, /)\n",
            "        Return the square root of x.\n",
            "    \n",
            "    tan(x, /)\n",
            "        Return the tangent of x (measured in radians).\n",
            "    \n",
            "    tanh(x, /)\n",
            "        Return the hyperbolic tangent of x.\n",
            "    \n",
            "    trunc(x, /)\n",
            "        Truncates the Real x to the nearest Integral toward 0.\n",
            "        \n",
            "        Uses the __trunc__ magic method.\n",
            "    \n",
            "    ulp(x, /)\n",
            "        Return the value of the least significant bit of the float x.\n",
            "\n",
            "DATA\n",
            "    e = 2.718281828459045\n",
            "    inf = inf\n",
            "    nan = nan\n",
            "    pi = 3.141592653589793\n",
            "    tau = 6.283185307179586\n",
            "\n",
            "FILE\n",
            "    (built-in)\n",
            "\n",
            "\n"
          ]
        }
      ]
    },
    {
      "cell_type": "code",
      "source": [
        "# function\n",
        "\n",
        "def sum(A,B):\n",
        "  print(A+B)"
      ],
      "metadata": {
        "id": "o_DSk9iQgJqg"
      },
      "execution_count": null,
      "outputs": []
    },
    {
      "cell_type": "code",
      "source": [
        "sum(1,1)"
      ],
      "metadata": {
        "colab": {
          "base_uri": "https://localhost:8080/"
        },
        "id": "ws2BRBUdjeab",
        "outputId": "c806a7af-a355-473f-9363-5f63b7d7d579"
      },
      "execution_count": null,
      "outputs": [
        {
          "output_type": "stream",
          "name": "stdout",
          "text": [
            "2\n"
          ]
        }
      ]
    },
    {
      "cell_type": "code",
      "source": [
        "def mul(A):\n",
        "  print(A*2)"
      ],
      "metadata": {
        "id": "vtHIlhQQjjpf"
      },
      "execution_count": null,
      "outputs": []
    },
    {
      "cell_type": "code",
      "source": [
        "mul(2)"
      ],
      "metadata": {
        "colab": {
          "base_uri": "https://localhost:8080/"
        },
        "id": "B4mHqcSZlITW",
        "outputId": "91ae3ad6-6b7b-4301-97df-54095868183c"
      },
      "execution_count": null,
      "outputs": [
        {
          "output_type": "stream",
          "name": "stdout",
          "text": [
            "4\n"
          ]
        }
      ]
    },
    {
      "cell_type": "code",
      "source": [
        "mul(sum(2,1))"
      ],
      "metadata": {
        "colab": {
          "base_uri": "https://localhost:8080/",
          "height": 228
        },
        "id": "uLhkoq5MlLSD",
        "outputId": "b19a5404-69ec-4286-aefa-4ddfbeffe3dc"
      },
      "execution_count": null,
      "outputs": [
        {
          "output_type": "stream",
          "name": "stdout",
          "text": [
            "3\n"
          ]
        },
        {
          "output_type": "error",
          "ename": "TypeError",
          "evalue": "unsupported operand type(s) for *: 'NoneType' and 'int'",
          "traceback": [
            "\u001b[0;31m---------------------------------------------------------------------------\u001b[0m",
            "\u001b[0;31mTypeError\u001b[0m                                 Traceback (most recent call last)",
            "\u001b[0;32m<ipython-input-17-7ff6f1dc938d>\u001b[0m in \u001b[0;36m<cell line: 1>\u001b[0;34m()\u001b[0m\n\u001b[0;32m----> 1\u001b[0;31m \u001b[0mmul\u001b[0m\u001b[0;34m(\u001b[0m\u001b[0msum\u001b[0m\u001b[0;34m(\u001b[0m\u001b[0;36m2\u001b[0m\u001b[0;34m,\u001b[0m\u001b[0;36m1\u001b[0m\u001b[0;34m)\u001b[0m\u001b[0;34m)\u001b[0m\u001b[0;34m\u001b[0m\u001b[0;34m\u001b[0m\u001b[0m\n\u001b[0m",
            "\u001b[0;32m<ipython-input-13-5f66e3e4d7db>\u001b[0m in \u001b[0;36mmul\u001b[0;34m(A)\u001b[0m\n\u001b[1;32m      1\u001b[0m \u001b[0;32mdef\u001b[0m \u001b[0mmul\u001b[0m\u001b[0;34m(\u001b[0m\u001b[0mA\u001b[0m\u001b[0;34m)\u001b[0m\u001b[0;34m:\u001b[0m\u001b[0;34m\u001b[0m\u001b[0;34m\u001b[0m\u001b[0m\n\u001b[0;32m----> 2\u001b[0;31m   \u001b[0mprint\u001b[0m\u001b[0;34m(\u001b[0m\u001b[0mA\u001b[0m\u001b[0;34m*\u001b[0m\u001b[0;36m2\u001b[0m\u001b[0;34m)\u001b[0m\u001b[0;34m\u001b[0m\u001b[0;34m\u001b[0m\u001b[0m\n\u001b[0m",
            "\u001b[0;31mTypeError\u001b[0m: unsupported operand type(s) for *: 'NoneType' and 'int'"
          ]
        }
      ]
    },
    {
      "cell_type": "code",
      "source": [
        "# hence we are going to use return instead if print\n",
        "\n",
        "def sum(a,b,c):\n",
        "  return a+b+c"
      ],
      "metadata": {
        "id": "R-wn2p2EoBi0"
      },
      "execution_count": null,
      "outputs": []
    },
    {
      "cell_type": "code",
      "source": [
        "sum(1,2,3)"
      ],
      "metadata": {
        "colab": {
          "base_uri": "https://localhost:8080/"
        },
        "id": "cFd_1sgfogN2",
        "outputId": "51b5f492-d7ae-411d-bd38-0673d3bb12c2"
      },
      "execution_count": null,
      "outputs": [
        {
          "output_type": "execute_result",
          "data": {
            "text/plain": [
              "6"
            ]
          },
          "metadata": {},
          "execution_count": 20
        }
      ]
    },
    {
      "cell_type": "code",
      "source": [
        "def mul(a):\n",
        "  return a*3"
      ],
      "metadata": {
        "id": "cJ4A2cSvoqdJ"
      },
      "execution_count": null,
      "outputs": []
    },
    {
      "cell_type": "code",
      "source": [
        "mul(2)"
      ],
      "metadata": {
        "colab": {
          "base_uri": "https://localhost:8080/"
        },
        "id": "H0sYDVJio1m9",
        "outputId": "8d881f48-4afd-405b-e903-ef04fd40508b"
      },
      "execution_count": null,
      "outputs": [
        {
          "output_type": "execute_result",
          "data": {
            "text/plain": [
              "6"
            ]
          },
          "metadata": {},
          "execution_count": 22
        }
      ]
    },
    {
      "cell_type": "code",
      "source": [
        "mul(sum(1,2,3))"
      ],
      "metadata": {
        "colab": {
          "base_uri": "https://localhost:8080/"
        },
        "id": "IBpyWEWKo3OJ",
        "outputId": "2d26d8d3-3729-4f61-f2de-26c3f175c99e"
      },
      "execution_count": null,
      "outputs": [
        {
          "output_type": "execute_result",
          "data": {
            "text/plain": [
              "18"
            ]
          },
          "metadata": {},
          "execution_count": 23
        }
      ]
    },
    {
      "cell_type": "markdown",
      "source": [
        "### Python programs"
      ],
      "metadata": {
        "id": "YxhOpaI_wR2p"
      }
    },
    {
      "cell_type": "markdown",
      "source": [
        "### Swapping two numbers"
      ],
      "metadata": {
        "id": "Vye-N8hLwZ3E"
      }
    },
    {
      "cell_type": "code",
      "source": [
        "num1 = int(input(\"Enter Num1 value:\"))\n",
        "num2 = int(input(\"Enter Num2 value:\"))\n",
        "\n",
        "# approach 1\n",
        "\n",
        "# temp = num1\n",
        "# num1 = num2\n",
        "# num2 = temp\n",
        "\n",
        "# Approach 2\n",
        "\n",
        "num1,num2 = num2,num1\n",
        "\n",
        "print(\"The value of num1 after swapping: {}\".format(num1))\n",
        "print(\"The value of num2 after swapping: {}\".format(num2))"
      ],
      "metadata": {
        "id": "HUxqIyv4o9dl",
        "colab": {
          "base_uri": "https://localhost:8080/"
        },
        "outputId": "47ab88c0-315e-4320-aa84-b7d76db763db"
      },
      "execution_count": 2,
      "outputs": [
        {
          "output_type": "stream",
          "name": "stdout",
          "text": [
            "Enter Num1 value:2\n",
            "Enter Num2 value:5\n",
            "The value of num1 after swapping: 5\n",
            "The value of num2 after swapping: 2\n"
          ]
        }
      ]
    },
    {
      "cell_type": "markdown",
      "source": [
        "### Prime Number\n",
        "\n",
        "- Natural number > 1\n",
        "- Which has only 2 factors of 1 and itself(It should be devided by 1 and its own, i.e, 19/1 & 19/19)"
      ],
      "metadata": {
        "id": "132nVSk5yJ4y"
      }
    },
    {
      "cell_type": "code",
      "source": [
        "A = int(input(\"Enter a number:\"))\n",
        "\n",
        "count = 0\n",
        "\n",
        "if A>1:\n",
        "  for i in range(1,A+1):\n",
        "    if A%i == 0:\n",
        "      count = count + 1\n",
        "  if count == 2:\n",
        "    print(\"The number is a prime number\")\n",
        "  else:\n",
        "    print(\"The number is not a prime number\")\n",
        "\n",
        "else:\n",
        "  print(\"The number is not a prime number\")"
      ],
      "metadata": {
        "colab": {
          "base_uri": "https://localhost:8080/"
        },
        "id": "1an90KmsyEIY",
        "outputId": "100462f5-420c-4ed5-b123-a7a14e440554"
      },
      "execution_count": 10,
      "outputs": [
        {
          "output_type": "stream",
          "name": "stdout",
          "text": [
            "Enter a number:2\n",
            "The number is a prime number\n"
          ]
        }
      ]
    },
    {
      "cell_type": "markdown",
      "source": [
        "### Factorial of a number\n",
        "\n",
        "- ie, A = 5\n",
        "  - 1 * 2 * 3 * 4* 5 = 120"
      ],
      "metadata": {
        "id": "ziuXuOPN17fy"
      }
    },
    {
      "cell_type": "code",
      "source": [
        "num = int(input(\"Enter any number:\"))\n",
        "\n",
        "fact = 1\n",
        "\n",
        "if num < 0:\n",
        "  print(\"Factorial of negative value is not possible\")\n",
        "elif num ==0:\n",
        "  print(\"Factorial of Zero is 1\")\n",
        "else:\n",
        "  for i in range(1, num+1):\n",
        "    fact = fact * i\n",
        "  print(\"Factorial of\", num, \" is:\", fact)"
      ],
      "metadata": {
        "colab": {
          "base_uri": "https://localhost:8080/"
        },
        "id": "LRprk47L0uFG",
        "outputId": "e1a83776-8677-4b30-a23a-49683f69991e"
      },
      "execution_count": 18,
      "outputs": [
        {
          "output_type": "stream",
          "name": "stdout",
          "text": [
            "Enter any number:5\n",
            "Factorial of 5  is: 120\n"
          ]
        }
      ]
    },
    {
      "cell_type": "code",
      "source": [
        "def facto(n):\n",
        "  if n < 0:\n",
        "    return \"Factorial of negative value is not possible\"\n",
        "  # Ternaty operator\n",
        "  return 1 if (n==0 or n==1) else n*facto(n-1) # 5 4 3 2 1\n",
        "\n",
        "num = int(input(\"Enter a number:\"))\n",
        "result = facto(num)\n",
        "if isinstance(result, str):\n",
        "    print(result)\n",
        "else:\n",
        "    print(\"Factorial of\", num, \"is\", result)"
      ],
      "metadata": {
        "colab": {
          "base_uri": "https://localhost:8080/"
        },
        "id": "gYhPVOTYB5PU",
        "outputId": "b6108f3f-dfbd-44bc-ad6b-727d2875e16e"
      },
      "execution_count": 7,
      "outputs": [
        {
          "output_type": "stream",
          "name": "stdout",
          "text": [
            "Enter a number:-2\n",
            "Factorial of negative value is not possible\n"
          ]
        }
      ]
    },
    {
      "cell_type": "markdown",
      "source": [
        "### Fibonacci Number\n",
        "\n",
        "![image.png](data:image/png;base64,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)"
      ],
      "metadata": {
        "id": "QLckLt4pJ-4R"
      }
    },
    {
      "cell_type": "code",
      "source": [
        "num = int(input(\"Enter a number:\"))\n",
        "\n",
        "# Initialize the first two numbers in the Fibonacci sequence\n",
        "n1, n2 = 0, 1\n",
        "\n",
        "# Print the first number\n",
        "print(n1) #0\n",
        "\n",
        "# Print the Fibonacci sequence\n",
        "for i in range(1, num):  # Start from 1 because we have already printed the first number\n",
        "    sum = n1 + n2\n",
        "    print(sum) # 1\n",
        "    n1 = n2 # 1\n",
        "    n2 = sum # 1"
      ],
      "metadata": {
        "colab": {
          "base_uri": "https://localhost:8080/"
        },
        "id": "0CKOdoyUKDWo",
        "outputId": "5961fc84-7bf0-4493-b3d1-cb32e8872478"
      },
      "execution_count": 12,
      "outputs": [
        {
          "output_type": "stream",
          "name": "stdout",
          "text": [
            "Enter a number:12\n",
            "0\n",
            "1\n",
            "2\n",
            "3\n",
            "5\n",
            "8\n",
            "13\n",
            "21\n",
            "34\n",
            "55\n",
            "89\n",
            "144\n"
          ]
        }
      ]
    },
    {
      "cell_type": "markdown",
      "source": [
        "### Sum of element in array"
      ],
      "metadata": {
        "id": "lE_aGWXaNt38"
      }
    },
    {
      "cell_type": "code",
      "source": [
        "arr = [1,2,3,4,5]\n",
        "sum(arr)"
      ],
      "metadata": {
        "colab": {
          "base_uri": "https://localhost:8080/"
        },
        "id": "otEh6ZzqN45p",
        "outputId": "e6ca70b2-ce65-4aad-d90d-72d3ab01fd9a"
      },
      "execution_count": 24,
      "outputs": [
        {
          "output_type": "execute_result",
          "data": {
            "text/plain": [
              "15"
            ]
          },
          "metadata": {},
          "execution_count": 24
        }
      ]
    },
    {
      "cell_type": "code",
      "source": [
        "# print(sum)  # This should show <built-in function sum> if it's not overwritten"
      ],
      "metadata": {
        "colab": {
          "base_uri": "https://localhost:8080/"
        },
        "id": "wsO7v6VjOXqD",
        "outputId": "f81de9ba-6615-4135-d45a-832ac447a147"
      },
      "execution_count": 23,
      "outputs": [
        {
          "output_type": "stream",
          "name": "stdout",
          "text": [
            "<built-in function sum>\n"
          ]
        }
      ]
    },
    {
      "cell_type": "code",
      "source": [
        "# del sum"
      ],
      "metadata": {
        "id": "f6QLsr2EOgnU"
      },
      "execution_count": 19,
      "outputs": []
    },
    {
      "cell_type": "markdown",
      "source": [
        "### Max & Min values in array"
      ],
      "metadata": {
        "id": "3MnjJRfbOxiz"
      }
    },
    {
      "cell_type": "code",
      "source": [
        "arr = [10, 20 ,15, 100]\n",
        "\n",
        "print(max(arr))\n",
        "print(min(arr))"
      ],
      "metadata": {
        "colab": {
          "base_uri": "https://localhost:8080/"
        },
        "id": "WmsSpL-5OjVs",
        "outputId": "306b8022-ca1d-4184-c159-b25d98280dd1"
      },
      "execution_count": 26,
      "outputs": [
        {
          "output_type": "stream",
          "name": "stdout",
          "text": [
            "100\n",
            "10\n"
          ]
        }
      ]
    },
    {
      "cell_type": "markdown",
      "source": [
        "### Lenght of a List"
      ],
      "metadata": {
        "id": "9SYyUJ1OPuQK"
      }
    },
    {
      "cell_type": "code",
      "source": [
        "listt = [1,3,5,6,7,8,10]\n",
        "\n",
        "len(listt)"
      ],
      "metadata": {
        "colab": {
          "base_uri": "https://localhost:8080/"
        },
        "id": "XsfsGpCNPBmR",
        "outputId": "57d16515-e013-4ce6-a880-e38f49964256"
      },
      "execution_count": 27,
      "outputs": [
        {
          "output_type": "execute_result",
          "data": {
            "text/plain": [
              "7"
            ]
          },
          "metadata": {},
          "execution_count": 27
        }
      ]
    },
    {
      "cell_type": "markdown",
      "source": [
        "### Swap first and last element\n",
        "\n",
        "![image.png](data:image/png;base64,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)"
      ],
      "metadata": {
        "id": "BGLejHPPQJ0q"
      }
    },
    {
      "cell_type": "code",
      "source": [
        "mylist = [12,34,42,56,17]\n",
        "\n",
        "mylist[0], mylist[-1] = mylist[-1], mylist[0]\n",
        "\n",
        "print(mylist)"
      ],
      "metadata": {
        "colab": {
          "base_uri": "https://localhost:8080/"
        },
        "id": "p8ZGfS-7P4eC",
        "outputId": "9f3fb19d-18c0-474c-b6e2-29c1a20a4930"
      },
      "execution_count": 31,
      "outputs": [
        {
          "output_type": "stream",
          "name": "stdout",
          "text": [
            "[17, 34, 42, 56, 12]\n"
          ]
        }
      ]
    },
    {
      "cell_type": "markdown",
      "source": [
        "### Swap any two elements in a List\n",
        "\n",
        "![image.png](data:image/png;base64,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)\n"
      ],
      "metadata": {
        "id": "MJUPX93sSelM"
      }
    },
    {
      "cell_type": "code",
      "source": [
        "mylist = [12,34,42,56,17]\n",
        "\n",
        "mylist[1], mylist[3] = mylist[3], mylist[1]\n",
        "\n",
        "print(mylist)"
      ],
      "metadata": {
        "colab": {
          "base_uri": "https://localhost:8080/"
        },
        "id": "oeS8nh_ESDph",
        "outputId": "426d4ae6-764b-4e53-db79-1dd18a6cabb0"
      },
      "execution_count": 33,
      "outputs": [
        {
          "output_type": "stream",
          "name": "stdout",
          "text": [
            "[12, 56, 42, 34, 17]\n"
          ]
        }
      ]
    },
    {
      "cell_type": "markdown",
      "source": [
        "### Remove Nth occurance of the word form a List\n",
        "\n",
        "![image.png](data:image/png;base64,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)"
      ],
      "metadata": {
        "id": "YmV_Bq_UTxCv"
      }
    },
    {
      "cell_type": "code",
      "source": [
        "mylist = [\"geeks\",\"for\",\"geeks\"]\n",
        "word = \"geeks\"\n",
        "n =2\n",
        "\n",
        "count= 0\n",
        "for i in range(0,len(mylist)):\n",
        "  if mylist[i]==word:\n",
        "    count += 1\n",
        "    if count==n:\n",
        "      del mylist[i]\n",
        "\n",
        "print(mylist)"
      ],
      "metadata": {
        "colab": {
          "base_uri": "https://localhost:8080/"
        },
        "id": "G-UImRf5UHbn",
        "outputId": "c0a68ec1-b860-4a02-8038-26e46711c726"
      },
      "execution_count": 37,
      "outputs": [
        {
          "output_type": "stream",
          "name": "stdout",
          "text": [
            "['geeks', 'for']\n"
          ]
        }
      ]
    },
    {
      "cell_type": "code",
      "source": [
        "mylist = [\"geeks\",\"for\",\"geeks\",\"geeks\",\"geeks\"]\n",
        "word = \"geeks\"\n",
        "n =3\n",
        "\n",
        "count= 0\n",
        "for i in range(0,len(mylist)-1): # list range\n",
        "  if mylist[i]==word:\n",
        "    count += 1\n",
        "    if count==n:\n",
        "      del mylist[i]\n",
        "\n",
        "print(mylist)"
      ],
      "metadata": {
        "colab": {
          "base_uri": "https://localhost:8080/"
        },
        "id": "DsUqPg7dTaC8",
        "outputId": "860b5184-1f05-4213-fd16-93ce61b13f11"
      },
      "execution_count": 40,
      "outputs": [
        {
          "output_type": "stream",
          "name": "stdout",
          "text": [
            "['geeks', 'for', 'geeks', 'geeks']\n"
          ]
        }
      ]
    },
    {
      "cell_type": "markdown",
      "source": [
        "### Search a Element in a list\n",
        "\n",
        "![image.png](data:image/png;base64,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)"
      ],
      "metadata": {
        "id": "nl2sF4xOZUh4"
      }
    },
    {
      "cell_type": "code",
      "source": [
        "mylist = [1,4,6,2,7,3]\n",
        "ele = 7\n",
        "\n",
        "if ele in mylist:\n",
        "  print(\"Element Found\")\n",
        "else:\n",
        "  print(\"Element not found\")"
      ],
      "metadata": {
        "colab": {
          "base_uri": "https://localhost:8080/"
        },
        "id": "3w9u_L5aZdrD",
        "outputId": "1636e64d-cee6-4dd0-c5a4-4bb61504dcba"
      },
      "execution_count": 41,
      "outputs": [
        {
          "output_type": "stream",
          "name": "stdout",
          "text": [
            "Elemet Found\n"
          ]
        }
      ]
    },
    {
      "cell_type": "code",
      "source": [
        "mylist = [1,4,6,2,7,3]\n",
        "ele = 5\n",
        "\n",
        "if ele in mylist:\n",
        "  print(\"Element Found\")\n",
        "else:\n",
        "  print(\"Element not found\")"
      ],
      "metadata": {
        "colab": {
          "base_uri": "https://localhost:8080/"
        },
        "id": "_Pe3nbcGatRF",
        "outputId": "fc5a8646-1d14-4275-d3e0-b888c1e4e52f"
      },
      "execution_count": 42,
      "outputs": [
        {
          "output_type": "stream",
          "name": "stdout",
          "text": [
            "Element not found\n"
          ]
        }
      ]
    },
    {
      "cell_type": "markdown",
      "source": [
        "### To Clear a list"
      ],
      "metadata": {
        "id": "767ykAjba1Y8"
      }
    },
    {
      "cell_type": "code",
      "source": [
        "mylist = [1,3,5,7,8]\n",
        "print(\"Before Clear:\", mylist)\n",
        "mylist.clear()\n",
        "print(\"After clear:\", mylist)"
      ],
      "metadata": {
        "colab": {
          "base_uri": "https://localhost:8080/"
        },
        "id": "Tv6680Rta3os",
        "outputId": "d80f322a-1fd9-4c79-d72b-ebdee3b7ea0a"
      },
      "execution_count": 43,
      "outputs": [
        {
          "output_type": "stream",
          "name": "stdout",
          "text": [
            "Before Clear: [1, 3, 5, 7, 8]\n",
            "After clear: []\n"
          ]
        }
      ]
    },
    {
      "cell_type": "code",
      "source": [
        "mylist = [1,3,5,7,8]\n",
        "print(\"Before Clear:\", mylist)\n",
        "mylist = []\n",
        "print(\"After clear:\", mylist)"
      ],
      "metadata": {
        "colab": {
          "base_uri": "https://localhost:8080/"
        },
        "id": "Tocu98ivbPX6",
        "outputId": "e5a0beb5-c44b-4fba-bb2b-e652a0aee08e"
      },
      "execution_count": 44,
      "outputs": [
        {
          "output_type": "stream",
          "name": "stdout",
          "text": [
            "Before Clear: [1, 3, 5, 7, 8]\n",
            "After clear: []\n"
          ]
        }
      ]
    },
    {
      "cell_type": "markdown",
      "source": [
        "### Reverse a list"
      ],
      "metadata": {
        "id": "0MdNmSjIbdGE"
      }
    },
    {
      "cell_type": "code",
      "source": [
        "mylist = [1,2,3,4,5,6,7,8]\n",
        "mylist.reverse()\n",
        "mylist"
      ],
      "metadata": {
        "colab": {
          "base_uri": "https://localhost:8080/"
        },
        "id": "uknk3i90bjfU",
        "outputId": "c2c0705c-546d-449a-fa6e-0478a7d55d7b"
      },
      "execution_count": 46,
      "outputs": [
        {
          "output_type": "execute_result",
          "data": {
            "text/plain": [
              "[8, 7, 6, 5, 4, 3, 2, 1]"
            ]
          },
          "metadata": {},
          "execution_count": 46
        }
      ]
    },
    {
      "cell_type": "code",
      "source": [
        "# Slicing\n",
        "mylist = [1,2,3,4,5,6,7,8]\n",
        "\n",
        "mylist[::-1]"
      ],
      "metadata": {
        "colab": {
          "base_uri": "https://localhost:8080/"
        },
        "id": "iLTMujVcbvTV",
        "outputId": "584fe6b7-f643-4ee0-e25f-c0430cc01d0e"
      },
      "execution_count": 50,
      "outputs": [
        {
          "output_type": "execute_result",
          "data": {
            "text/plain": [
              "[8, 7, 6, 5, 4, 3, 2, 1]"
            ]
          },
          "metadata": {},
          "execution_count": 50
        }
      ]
    },
    {
      "cell_type": "markdown",
      "source": [
        "### Clone or copy a List"
      ],
      "metadata": {
        "id": "LCEgrUbjcMbX"
      }
    },
    {
      "cell_type": "code",
      "source": [
        "mylist = [1,2,3,4,5,6,7,8]\n",
        "\n",
        "my_list_copy =mylist[:]\n",
        "print(my_list_copy)"
      ],
      "metadata": {
        "colab": {
          "base_uri": "https://localhost:8080/"
        },
        "id": "u06jjMVscP-c",
        "outputId": "a001ab0c-eca0-423b-b22b-7041cbf5a37d"
      },
      "execution_count": 52,
      "outputs": [
        {
          "output_type": "stream",
          "name": "stdout",
          "text": [
            "[1, 2, 3, 4, 5, 6, 7, 8]\n"
          ]
        }
      ]
    },
    {
      "cell_type": "code",
      "source": [
        "# Extend Method\n",
        "\n",
        "mylist = [1,2,3,4,5,6,7,8]\n",
        "\n",
        "my_list_copy = [10,11]\n",
        "my_list_copy.extend(mylist)\n",
        "print(my_list_copy)"
      ],
      "metadata": {
        "colab": {
          "base_uri": "https://localhost:8080/"
        },
        "id": "r7FqkqDUcQfT",
        "outputId": "dfa318e5-6ca9-465b-c351-234b84042784"
      },
      "execution_count": 54,
      "outputs": [
        {
          "output_type": "stream",
          "name": "stdout",
          "text": [
            "[10, 11, 1, 2, 3, 4, 5, 6, 7, 8]\n"
          ]
        }
      ]
    },
    {
      "cell_type": "code",
      "source": [
        "# Copy menthod\n",
        "\n",
        "mylist = [1,2,3,4,5,6,7,8]\n",
        "\n",
        "my_list_copy = mylist.copy()\n",
        "my_list_copy"
      ],
      "metadata": {
        "colab": {
          "base_uri": "https://localhost:8080/"
        },
        "id": "ZZAEacQGcQjU",
        "outputId": "0c647630-c423-47fa-a28e-ce8630ebe16c"
      },
      "execution_count": 57,
      "outputs": [
        {
          "output_type": "execute_result",
          "data": {
            "text/plain": [
              "[1, 2, 3, 4, 5, 6, 7, 8]"
            ]
          },
          "metadata": {},
          "execution_count": 57
        }
      ]
    },
    {
      "cell_type": "code",
      "source": [
        "# List Comprehention\n",
        "\n",
        "mylist = [1,2,3,4,5,6,7,8]\n",
        "\n",
        "my_list_copy = [i for i in mylist]\n",
        "my_list_copy"
      ],
      "metadata": {
        "colab": {
          "base_uri": "https://localhost:8080/"
        },
        "id": "9WC1Z_f9dVlQ",
        "outputId": "b0532200-0270-48a6-cd88-f09332641d3b"
      },
      "execution_count": 58,
      "outputs": [
        {
          "output_type": "execute_result",
          "data": {
            "text/plain": [
              "[1, 2, 3, 4, 5, 6, 7, 8]"
            ]
          },
          "metadata": {},
          "execution_count": 58
        }
      ]
    }
  ]
}
{
  "nbformat": 4,
  "nbformat_minor": 0,
  "metadata": {
    "colab": {
      "private_outputs": true,
      "provenance": [],
      "authorship_tag": "ABX9TyPX55AmtDAGkdGxNrIRp5J8",
      "include_colab_link": true
    },
    "kernelspec": {
      "name": "python3",
      "display_name": "Python 3"
    },
    "language_info": {
      "name": "python"
    }
  },
  "cells": [
    {
      "cell_type": "markdown",
      "metadata": {
        "id": "view-in-github",
        "colab_type": "text"
      },
      "source": [
        "<a href=\"https://colab.research.google.com/github/SriRamK345/Python/blob/main/Python_DSA_Problems.ipynb\" target=\"_parent\"><img src=\"https://colab.research.google.com/assets/colab-badge.svg\" alt=\"Open In Colab\"/></a>"
      ]
    },
    {
      "cell_type": "markdown",
      "source": [
        "# **Core Concepts and Practice**\n",
        "1. **Revise Key DSA Topics**:  \n",
        "   - Arrays and Strings  \n",
        "   - Linked Lists  \n",
        "   - Stacks and Queues  \n",
        "   - Hashing (Dictionaries/Sets in Python)  \n",
        "   - Trees and Graphs  \n",
        "   - Sorting and Searching (Binary Search, Merge Sort, Quick Sort)  \n",
        "   - Recursion and Dynamic Programming  "
      ],
      "metadata": {
        "id": "ygFOiOwrNsyI"
      }
    },
    {
      "cell_type": "markdown",
      "source": [
        "# From a List of numbers, move zero to the end of the list."
      ],
      "metadata": {
        "id": "WiwnTNZl3nn9"
      }
    },
    {
      "cell_type": "code",
      "source": [
        "lst = [1,0,7,0,3]\n",
        "\n",
        "for item in lst:\n",
        "  if item == 0:\n",
        "    lst.remove(item)\n",
        "    lst.append(item)\n",
        "\n",
        "print(lst)"
      ],
      "metadata": {
        "id": "j3pO-ZpU3w27"
      },
      "execution_count": null,
      "outputs": []
    },
    {
      "cell_type": "markdown",
      "source": [
        "# Palindrome(Two pointer palindrome method)"
      ],
      "metadata": {
        "id": "4rMt5nmb5mMo"
      }
    },
    {
      "cell_type": "code",
      "source": [
        "sttt = \"dogs\"\n",
        "\n",
        "print(len(sttt) - 1)"
      ],
      "metadata": {
        "id": "It3Ee_dW4VhM"
      },
      "execution_count": null,
      "outputs": []
    },
    {
      "cell_type": "code",
      "source": [
        "string=input()\n",
        "\n",
        "def palindrame(string):\n",
        "    L = 0\n",
        "    R = len(string) -1\n",
        "    while L < R:\n",
        "        if string[L] != string[R]:\n",
        "            return False\n",
        "        L +=1\n",
        "        R -=1\n",
        "\n",
        "    return True\n",
        "\n",
        "print(palindrame(string))"
      ],
      "metadata": {
        "id": "_CpSKimULKZd"
      },
      "execution_count": null,
      "outputs": []
    },
    {
      "cell_type": "code",
      "source": [
        "pali(\"vsdbuivbub\")"
      ],
      "metadata": {
        "id": "i0YwoTlWBeB6"
      },
      "execution_count": null,
      "outputs": []
    },
    {
      "cell_type": "code",
      "source": [
        "pali(\"asdsa\")"
      ],
      "metadata": {
        "id": "rnJaCOZNBjKG"
      },
      "execution_count": null,
      "outputs": []
    },
    {
      "cell_type": "code",
      "source": [
        "for i in range(5, 1, -1):\n",
        "  print(i)"
      ],
      "metadata": {
        "id": "7UU1GF2NB9s2"
      },
      "execution_count": null,
      "outputs": []
    },
    {
      "cell_type": "code",
      "source": [
        "print()"
      ],
      "metadata": {
        "id": "k5_PoA7hijlq"
      },
      "execution_count": null,
      "outputs": []
    },
    {
      "cell_type": "markdown",
      "source": [
        "## skip element in array\n"
      ],
      "metadata": {
        "id": "3Fd6Nh6y5AK7"
      }
    },
    {
      "cell_type": "code",
      "source": [
        "inp = [1,2,3,4,5, 6,10]\n",
        "out = [1,2,4,5]\n",
        "\n",
        "output = []\n",
        "\n",
        "for i in inp:\n",
        "  if i ==3 or i ==6 or i ==10:\n",
        "    continue\n",
        "  output.append(i)\n",
        "\n",
        "print(output)"
      ],
      "metadata": {
        "id": "HA927ejm5EWj"
      },
      "execution_count": null,
      "outputs": []
    },
    {
      "cell_type": "markdown",
      "source": [
        "# Given an array of N strings sort it in ascending order based on the length of the string.If two strings are found to have the same length sort them in **lexicographical order**.\n",
        "```\n",
        "Sample Testcase :\n",
        "INPUT\n",
        "3\n",
        "coding platform codekata\n",
        "OUTPUT\n",
        "coding codekata platform\n",
        "```"
      ],
      "metadata": {
        "id": "VvqPkL4LJacI"
      }
    },
    {
      "cell_type": "code",
      "source": [
        "lst = input().split()\n",
        "\n",
        "lst.sort(key=lambda x : (len(x),x))\n",
        "print(*lst)"
      ],
      "metadata": {
        "id": "OjL9mQS8OM7n"
      },
      "execution_count": null,
      "outputs": []
    },
    {
      "cell_type": "markdown",
      "source": [
        "The function `b.sort(key=lambda x: (len(x), x))` sorts a list `b` based on the following criteria:\n",
        "\n",
        "1. **Primary key: Length of the string**  \n",
        "   The list is first sorted by the length of each string (`len(x)`).\n",
        "\n",
        "2. **Secondary key: Lexicographical order**  \n",
        "   If two strings have the same length, they are sorted alphabetically (lexicographically).\n",
        "\n",
        "### How It Works:\n",
        "\n",
        "- The `key` parameter in `sort()` specifies a function that determines the sorting order.  \n",
        "- Here, the `lambda x: (len(x), x)` defines the sorting key as a tuple:\n",
        "  - The first element of the tuple is the length of the string (`len(x)`).\n",
        "  - The second element is the string itself (`x`).\n",
        "\n",
        "The `sort()` function uses this tuple to sort the list:\n",
        "1. First, it compares the **lengths** of the strings.\n",
        "2. If two strings have the same length, it then compares them **alphabetically**.\n",
        "\n",
        "### Example:\n",
        "\n",
        "```python\n",
        "b = [\"apple\", \"bat\", \"ant\", \"banana\", \"dog\"]\n",
        "\n",
        "# Sort the list\n",
        "b.sort(key=lambda x: (len(x), x))\n",
        "\n",
        "print(b)\n",
        "```\n",
        "\n",
        "### Step-by-Step Sorting:\n",
        "1. Calculate the key for each element:\n",
        "   - `\"apple\"` → `(5, \"apple\")`\n",
        "   - `\"bat\"` → `(3, \"bat\")`\n",
        "   - `\"ant\"` → `(3, \"ant\")`\n",
        "   - `\"banana\"` → `(6, \"banana\")`\n",
        "   - `\"dog\"` → `(3, \"dog\")`\n",
        "\n",
        "2. Sort primarily by length (`len(x)`), then lexicographically (`x`):\n",
        "   - Keys sorted: `(3, \"ant\")`, `(3, \"bat\")`, `(3, \"dog\")`, `(5, \"apple\")`, `(6, \"banana\")`.\n",
        "```"
      ],
      "metadata": {
        "id": "QzEoCPT-PLoc"
      }
    },
    {
      "cell_type": "markdown",
      "source": [
        "Chan’s girlfriend's birthday is near, so he wants to surprise her by making a special cake for her. Chan knows that his girlfriend likes cherries on the cake, so he puts cherries on the top of the cake, but he was not satisfied. Therefore, he decided to replace some of the cherries to make a beautiful pattern. However, Chan has a lot of other work to do so he decided to ask for your help. The cherries are of two colors red and green. Now Chan wants the cherries to be placed in such a way that each cherry of one color must be adjacent to only cherries of the other color, two cherries are adjacent if they share a side. Now Chan has asked for your help in making that pattern on the cake.You can replace any cherry of given color with the other color. But there is a cost for each replacement: if you replace a red cherry with a green one, the cost is 5 units and if you replace a green cherry with a red one, the cost is 3 units. Help your friend Chan by making the cake special with minimum cost.If there is no need of any changes print '0'(ie. minimum cost is zero)\n",
        "Input Size : N<=1000, M<=1000\n",
        "```\n",
        "Example:\n",
        "INPUT\n",
        "2 3\n",
        "RRG\n",
        "GGR\n",
        "OUTPUT\n",
        "8\n",
        "```"
      ],
      "metadata": {
        "id": "RFsfFDmRSXZZ"
      }
    },
    {
      "cell_type": "code",
      "source": [
        "n, m = list(map(int, input().split()))\n",
        "n, m"
      ],
      "metadata": {
        "id": "A6VoquBeTTLc"
      },
      "execution_count": null,
      "outputs": []
    },
    {
      "cell_type": "code",
      "source": [
        "pattern1 = [['R' if (i + j) % 2 == 0 else 'G' for j in range(m)] for i in range(n)]"
      ],
      "metadata": {
        "id": "bqOvxK8yPTqq"
      },
      "execution_count": null,
      "outputs": []
    },
    {
      "cell_type": "code",
      "source": [
        "pattern1"
      ],
      "metadata": {
        "id": "9p4m1luCPRvj"
      },
      "execution_count": null,
      "outputs": []
    },
    {
      "cell_type": "code",
      "source": [
        "def min_cost_to_checkerboard(n, m, grid):\n",
        "    # Generate the two patterns\n",
        "    pattern1 = [['R' if (i + j) % 2 == 0 else 'G' for j in range(m)] for i in range(n)]\n",
        "    pattern2 = [['G' if (i + j) % 2 == 0 else 'R' for j in range(m)] for i in range(n)]\n",
        "\n",
        "    # Function to calculate the cost for a given pattern\n",
        "    def calculate_cost(pattern):\n",
        "        cost = 0\n",
        "        for i in range(n):\n",
        "            for j in range(m):\n",
        "                if grid[i][j] != pattern[i][j]:\n",
        "                    if grid[i][j] == 'R':  # Replace R with G\n",
        "                        cost += 5\n",
        "                    else:  # Replace G with R\n",
        "                        cost += 3\n",
        "        return cost\n",
        "\n",
        "    # Calculate costs for both patterns\n",
        "    cost1 = calculate_cost(pattern1)\n",
        "    cost2 = calculate_cost(pattern2)\n",
        "\n",
        "    # Return the minimum cost\n",
        "    return min(cost1, cost2)\n",
        "\n",
        "# Input reading\n",
        "n, m = map(int, input().split())\n",
        "grid = [list(input().strip()) for _ in range(n)]\n",
        "\n",
        "# Output the result\n",
        "print(min_cost_to_checkerboard(n, m, grid))\n"
      ],
      "metadata": {
        "id": "Jq9HSwTpPN3C"
      },
      "execution_count": null,
      "outputs": []
    },
    {
      "cell_type": "code",
      "source": [
        "n, m = map(int, input().split())\n",
        "grid = [list(input().strip()) for _ in range(n)]"
      ],
      "metadata": {
        "id": "3RzrPp6n8PwJ"
      },
      "execution_count": null,
      "outputs": []
    },
    {
      "cell_type": "code",
      "source": [
        "grid"
      ],
      "metadata": {
        "id": "qVt-PTdh8bM7"
      },
      "execution_count": null,
      "outputs": []
    },
    {
      "cell_type": "code",
      "source": [
        "n, m"
      ],
      "metadata": {
        "id": "FosAWPh68cyi"
      },
      "execution_count": null,
      "outputs": []
    },
    {
      "cell_type": "code",
      "source": [
        "print((0) % 2)"
      ],
      "metadata": {
        "id": "eFt-3SDp8hCN"
      },
      "execution_count": null,
      "outputs": []
    },
    {
      "cell_type": "code",
      "source": [
        "pattern1 = [['R' if (i + j) % 2 == 0 else 'G' for j in range(3)] for i in range(2)]\n",
        "pattern1"
      ],
      "metadata": {
        "id": "VBwjZP8ZDQuo"
      },
      "execution_count": null,
      "outputs": []
    },
    {
      "cell_type": "code",
      "source": [
        "for i in range(2):\n",
        "  print(i)"
      ],
      "metadata": {
        "id": "sqiX7ODOEMWo"
      },
      "execution_count": null,
      "outputs": []
    },
    {
      "cell_type": "markdown",
      "source": [
        "Below is a categorized list of **Data Structures and Algorithms (DSA)** topics, each with a brief explanation, examples, and the **time complexity** and **space complexity** for key algorithms.\n",
        "\n",
        "---\n",
        "\n",
        "### 1. **Array**\n",
        "- **Definition**: A collection of elements stored in contiguous memory locations.\n",
        "- **Examples**:\n",
        "  1. **Find Maximum Element in an Array**:\n",
        "     ```python\n",
        "     def find_max(arr):\n",
        "         max_val = arr[0]\n",
        "         for num in arr:\n",
        "             if num > max_val:\n",
        "                 max_val = num\n",
        "         return max_val\n",
        "     ```\n",
        "     - **Time Complexity**: \\(O(n)\\)\n",
        "     - **Space Complexity**: \\(O(1)\\)\n",
        "\n",
        "  2. **Reversing an Array**:\n",
        "     ```python\n",
        "     def reverse_array(arr):\n",
        "         return arr[::-1]\n",
        "     ```\n",
        "     - **Time Complexity**: \\(O(n)\\)\n",
        "     - **Space Complexity**: \\(O(1)\\) (if done in place)\n",
        "\n",
        "---\n",
        "\n",
        "### 2. **Linked List**\n",
        "- **Definition**: A linear data structure where elements (nodes) are linked using pointers.\n",
        "- **Examples**:\n",
        "  1. **Insert Node at the Beginning**:\n",
        "     ```python\n",
        "     class Node:\n",
        "         def __init__(self, data):\n",
        "             self.data = data\n",
        "             self.next = None\n",
        "\n",
        "     def insert_at_beginning(head, data):\n",
        "         new_node = Node(data)\n",
        "         new_node.next = head\n",
        "         return new_node\n",
        "     ```\n",
        "     - **Time Complexity**: \\(O(1)\\)\n",
        "     - **Space Complexity**: \\(O(1)\\)\n",
        "\n",
        "  2. **Reverse a Linked List**:\n",
        "     ```python\n",
        "     def reverse_linked_list(head):\n",
        "         prev, current = None, head\n",
        "         while current:\n",
        "             next_node = current.next\n",
        "             current.next = prev\n",
        "             prev = current\n",
        "             current = next_node\n",
        "         return prev\n",
        "     ```\n",
        "     - **Time Complexity**: \\(O(n)\\)\n",
        "     - **Space Complexity**: \\(O(1)\\)\n",
        "\n",
        "---\n",
        "\n",
        "### 3. **Stack**\n",
        "- **Definition**: A linear data structure that follows the LIFO (Last In First Out) principle.\n",
        "- **Examples**:\n",
        "  1. **Check Balanced Parentheses**:\n",
        "     ```python\n",
        "     def is_balanced(expression):\n",
        "         stack = []\n",
        "         matching_brackets = {')': '(', '}': '{', ']': '['}\n",
        "         for char in expression:\n",
        "             if char in \"({[\":\n",
        "                 stack.append(char)\n",
        "             elif char in \")}]\":\n",
        "                 if not stack or stack.pop() != matching_brackets[char]:\n",
        "                     return False\n",
        "         return not stack\n",
        "     ```\n",
        "     - **Time Complexity**: \\(O(n)\\)\n",
        "     - **Space Complexity**: \\(O(n)\\)\n",
        "\n",
        "  2. **Implement a Stack Using List**:\n",
        "     ```python\n",
        "     class Stack:\n",
        "         def __init__(self):\n",
        "             self.stack = []\n",
        "\n",
        "         def push(self, val):\n",
        "             self.stack.append(val)\n",
        "\n",
        "         def pop(self):\n",
        "             if self.is_empty():\n",
        "                 return None\n",
        "             return self.stack.pop()\n",
        "\n",
        "         def is_empty(self):\n",
        "             return len(self.stack) == 0\n",
        "     ```\n",
        "     - **Time Complexity**: Push/Pop: \\(O(1)\\)\n",
        "     - **Space Complexity**: \\(O(n)\\)\n",
        "\n",
        "---\n",
        "\n",
        "### 4. **Queue**\n",
        "- **Definition**: A linear data structure that follows the FIFO (First In First Out) principle.\n",
        "- **Examples**:\n",
        "  1. **Implement Queue Using List**:\n",
        "     ```python\n",
        "     class Queue:\n",
        "         def __init__(self):\n",
        "             self.queue = []\n",
        "\n",
        "         def enqueue(self, val):\n",
        "             self.queue.append(val)\n",
        "\n",
        "         def dequeue(self):\n",
        "             if self.is_empty():\n",
        "                 return None\n",
        "             return self.queue.pop(0)\n",
        "\n",
        "         def is_empty(self):\n",
        "             return len(self.queue) == 0\n",
        "     ```\n",
        "     - **Time Complexity**: Enqueue: \\(O(1)\\), Dequeue: \\(O(n)\\) (due to shifting elements)\n",
        "     - **Space Complexity**: \\(O(n)\\)\n",
        "\n",
        "  2. **Implement Circular Queue**:\n",
        "     ```python\n",
        "     class CircularQueue:\n",
        "         def __init__(self, k):\n",
        "             self.queue = [None] * k\n",
        "             self.size = k\n",
        "             self.front = self.rear = -1\n",
        "\n",
        "         def enqueue(self, val):\n",
        "             if (self.rear + 1) % self.size == self.front:\n",
        "                 return False  # Queue is full\n",
        "             if self.front == -1:\n",
        "                 self.front = 0\n",
        "             self.rear = (self.rear + 1) % self.size\n",
        "             self.queue[self.rear] = val\n",
        "             return True\n",
        "\n",
        "         def dequeue(self):\n",
        "             if self.front == -1:\n",
        "                 return None  # Queue is empty\n",
        "             val = self.queue[self.front]\n",
        "             if self.front == self.rear:\n",
        "                 self.front = self.rear = -1  # Reset queue\n",
        "             else:\n",
        "                 self.front = (self.front + 1) % self.size\n",
        "             return val\n",
        "     ```\n",
        "     - **Time Complexity**: \\(O(1)\\)\n",
        "     - **Space Complexity**: \\(O(k)\\)\n",
        "\n",
        "---\n",
        "\n",
        "### 5. **Sorting Algorithms**\n",
        "- **Examples**:\n",
        "  1. **Bubble Sort**:\n",
        "     ```python\n",
        "     def bubble_sort(arr):\n",
        "         n = len(arr)\n",
        "         for i in range(n):\n",
        "             for j in range(0, n-i-1):\n",
        "                 if arr[j] > arr[j+1]:\n",
        "                     arr[j], arr[j+1] = arr[j+1], arr[j]\n",
        "     ```\n",
        "     - **Time Complexity**: \\(O(n^2)\\)\n",
        "     - **Space Complexity**: \\(O(1)\\)\n",
        "\n",
        "  2. **Merge Sort**:\n",
        "     ```python\n",
        "     def merge_sort(arr):\n",
        "         if len(arr) > 1:\n",
        "             mid = len(arr) // 2\n",
        "             left = arr[:mid]\n",
        "             right = arr[mid:]\n",
        "             merge_sort(left)\n",
        "             merge_sort(right)\n",
        "\n",
        "             i = j = k = 0\n",
        "             while i < len(left) and j < len(right):\n",
        "                 if left[i] < right[j]:\n",
        "                     arr[k] = left[i]\n",
        "                     i += 1\n",
        "                 else:\n",
        "                     arr[k] = right[j]\n",
        "                     j += 1\n",
        "                 k += 1\n",
        "\n",
        "             while i < len(left):\n",
        "                 arr[k] = left[i]\n",
        "                 i += 1\n",
        "                 k += 1\n",
        "\n",
        "             while j < len(right):\n",
        "                 arr[k] = right[j]\n",
        "                 j += 1\n",
        "                 k += 1\n",
        "     ```\n",
        "     - **Time Complexity**: \\(O(n \\log n)\\)\n",
        "     - **Space Complexity**: \\(O(n)\\)\n",
        "\n",
        "---\n",
        "\n",
        "### 6. **Binary Search**\n",
        "- **Definition**: An efficient algorithm for finding an element in a sorted array.\n",
        "- **Example**:\n",
        "  ```python\n",
        "  def binary_search(arr, target):\n",
        "      left, right = 0, len(arr) - 1\n",
        "      while left <= right:\n",
        "          mid = (left + right) // 2\n",
        "          if arr[mid] == target:\n",
        "              return mid\n",
        "          elif arr[mid] < target:\n",
        "              left = mid + 1\n",
        "          else:\n",
        "              right = mid - 1\n",
        "      return -1\n",
        "  ```\n",
        "  - **Time Complexity**: \\(O(\\log n)\\)\n",
        "  - **Space Complexity**: \\(O(1)\\)\n",
        "\n",
        "---\n",
        "\n",
        "### 7. **Tree Traversals**\n",
        "- **Examples**:\n",
        "  1. **Inorder Traversal**:\n",
        "     ```python\n",
        "     def inorder_traversal(root):\n",
        "         if root:\n",
        "             inorder_traversal(root.left)\n",
        "             print(root.data)\n",
        "             inorder_traversal(root.right)\n",
        "     ```\n",
        "     - **Time Complexity**: \\(O(n)\\)\n",
        "     - **Space Complexity**: \\(O(h)\\) (h = height of the tree)\n",
        "\n",
        "  2. **Level Order Traversal (BFS)**:\n",
        "     ```python\n",
        "     from collections import deque\n",
        "     def level_order_traversal(root):\n",
        "         if not root:\n",
        "             return\n",
        "         queue = deque([root])\n",
        "         while queue:\n",
        "             node = queue.popleft()\n",
        "             print(node.data)\n",
        "             if node.left:\n",
        "                 queue.append(node.left)\n",
        "             if node.right:\n",
        "                 queue.append(node.right)\n",
        "     ```\n",
        "     - **Time Complexity**: \\(O(n)\\)\n",
        "     - **Space Complexity**: \\(O(n)\\)\n",
        "\n",
        "---\n",
        "\n",
        "### 8. **Graph Algorithms**\n",
        "- **Examples**:\n",
        "  1. **Breadth-First Search (BFS)**:\n",
        "     ```python\n",
        "     from collections import deque\n",
        "     def bfs(graph, start):\n",
        "         visited = set()\n",
        "         queue = deque([start])\n",
        "         while queue:\n",
        "             node = queue.popleft()\n",
        "             if node not in visited:\n",
        "                 print(node)\n",
        "                 visited.add(node)\n",
        "                 queue.extend(graph[node] - visited)\n",
        "     ```\n",
        "     - **Time Complexity**: \\(O(V + E)\\) (V: vertices, E: edges)\n",
        "     - **Space Complexity**: \\(O(V)\\)\n",
        "\n",
        "  2. **Depth-First Search (DFS)**:\n",
        "     ```python\n",
        "     def dfs(graph, start, visited=None):\n",
        "         if visited is None:\n",
        "             visited = set()\n",
        "         if start not in visited:\n",
        "             print(start)\n",
        "             visited.add(start)\n",
        "             for neighbor in graph[start] - visited:\n",
        "                 dfs(graph, neighbor, visited)\n",
        "     ```\n",
        "     - **Time Complexity**: \\(O(V + E)\\)\n",
        "     - **Space Complexity**: \\(O(V)\\)\n",
        "\n",
        "---\n",
        "\n",
        "Let me know which topic you'd like to dive deeper into!"
      ],
      "metadata": {
        "id": "uLoWyfZbTcjL"
      }
    },
    {
      "cell_type": "markdown",
      "source": [
        "# Array\n",
        "Definition: A collection of elements stored in contiguous memory locations.\n",
        "\n",
        "1. Find Maximum Element in an Array: **(Linear Search)**"
      ],
      "metadata": {
        "id": "k2aM2IvHYMpJ"
      }
    },
    {
      "cell_type": "code",
      "source": [
        "def max_value(arr):\n",
        "  max_val = arr[0]\n",
        "  for num in arr:\n",
        "    if num > max_val:\n",
        "      max_val = num\n",
        "  return max_val\n",
        "\n",
        "print(max_value([1,2,10,4,15,6,7]))"
      ],
      "metadata": {
        "id": "dbCbuC1yTdHy"
      },
      "execution_count": null,
      "outputs": []
    },
    {
      "cell_type": "markdown",
      "source": [
        "2. Reversing an Array"
      ],
      "metadata": {
        "id": "kI0MJJ_2cixp"
      }
    },
    {
      "cell_type": "code",
      "source": [
        "def rev(arr):\n",
        "  return arr[::-1]\n",
        "\n",
        "rev([1,5,8,9])"
      ],
      "metadata": {
        "id": "-0U7D6ElExQ6"
      },
      "execution_count": null,
      "outputs": []
    },
    {
      "cell_type": "code",
      "source": [
        "max_sum = float('-inf')\n",
        "max_sum"
      ],
      "metadata": {
        "id": "cl0LqaRwYL4q"
      },
      "execution_count": null,
      "outputs": []
    },
    {
      "cell_type": "markdown",
      "source": [
        "3. Find the Maximum Subarray Sum (Kadane’s Algorithm)\n",
        "\n",
        "Problem: Given an array, find the contiguous subarray with the maximum sum.\n",
        "```\n",
        "Input: [-2,1,-3,4,-1,2,1,-5,4]\n",
        "Output: 6 (Subarray: [4,-1,2,1])\n",
        "```"
      ],
      "metadata": {
        "id": "aypjFzk5nY_j"
      }
    },
    {
      "cell_type": "code",
      "source": [
        "def max_sum(arr):\n",
        "  max_num = float(\"-inf\")\n",
        "  current_sum = 0\n",
        "  for num in arr:\n",
        "    current_sum = max(num, num+current_sum)\n",
        "    max_num= max(current_sum, max_num)\n",
        "  return max_num\n",
        "\n",
        "max_sum([-2, 1, -3, 4, -1, 2, 1, -5, 4])"
      ],
      "metadata": {
        "id": "QgfxV6QunZ_f"
      },
      "execution_count": null,
      "outputs": []
    },
    {
      "cell_type": "markdown",
      "source": [
        "4. Find two numbers in the array that sum to a target.\n",
        "```\n",
        "Input: nums = [2, 7, 11, 15], target = 9\n",
        "Output: [0, 1] (Indices of 2 and 7)\n",
        "```"
      ],
      "metadata": {
        "id": "erOlVeIFJlCb"
      }
    },
    {
      "cell_type": "code",
      "source": [
        "def duumy(arr, tar):\n",
        "  dictt={}\n",
        "  for index ,num in enumerate(arr):\n",
        "    dummy = tar - num\n",
        "    if dummy in dictt:\n",
        "      return [dictt[dummy], index]\n",
        "    dictt[num] = index\n",
        "\n",
        "arr = [2, 7, 11, 15]\n",
        "ind = duumy(arr, 9)\n",
        "print(\"index:\", ind)\n",
        "print(\"value\", [arr[i] for i in  ind])"
      ],
      "metadata": {
        "id": "chFBsRmxJqCf"
      },
      "execution_count": null,
      "outputs": []
    },
    {
      "cell_type": "markdown",
      "source": [
        "- The function uses a hashmap (dictionary) to track the numbers we've seen and their indices. This allows for constant-time lookups for the complement of each number, resulting in an efficient solution.\n",
        "- Time complexity: O(n), where n is the number of elements in the array.\n",
        "- Space complexity: O(n), due to the use of the dictionary to store the numbers and their indices."
      ],
      "metadata": {
        "id": "w_UjZ07lNTkL"
      }
    },
    {
      "cell_type": "markdown",
      "source": [
        "# **String**\n",
        "\n",
        "1. Check for Anagrams(Determine if two strings are anagrams of each other)\n",
        "```\n",
        "Input: \"listen\", \"silent\"\n",
        "Output: True\n",
        "```\n",
        "\n"
      ],
      "metadata": {
        "id": "P8lzULxKg_79"
      }
    },
    {
      "cell_type": "code",
      "source": [
        "from collections import Counter\n",
        "\n",
        "def dummy(s1, s2):\n",
        "  return Counter(s1) == Counter(s2)\n",
        "print(dummy(\"listen\", \"silent\"))"
      ],
      "metadata": {
        "id": "4lOcx12XhOfJ"
      },
      "execution_count": null,
      "outputs": []
    },
    {
      "cell_type": "markdown",
      "source": [
        "Given a day, print 'yes' if it is a holiday otherwise print'no'.Assume that weekend days are holidays\n",
        "```\n",
        "Sample Testcase :\n",
        "INPUT\n",
        "saturday\n",
        "OUTPUT\n",
        "yes\n",
        "INPUT\n",
        "monday\n",
        "OUTPUT\n",
        "no\n",
        "```"
      ],
      "metadata": {
        "id": "OhyPxeyqiDoA"
      }
    },
    {
      "cell_type": "code",
      "source": [
        "def holiday(string):\n",
        "  holi = [\"saturday\", \"sunday\"]\n",
        "  if string.lower() in holi:\n",
        "    print(\"yes\")\n",
        "  else:\n",
        "    print(\"no\")\n",
        "\n",
        "holiday(\"monday\")\n",
        "holiday(\"saturday\")"
      ],
      "metadata": {
        "id": "igx4X6b8iIfA"
      },
      "execution_count": null,
      "outputs": []
    },
    {
      "cell_type": "code",
      "source": [
        "for i in (range(2,6,3)):\n",
        "  print(i)"
      ],
      "metadata": {
        "id": "7dTyPVmChgKH"
      },
      "execution_count": null,
      "outputs": []
    },
    {
      "cell_type": "markdown",
      "source": [
        "Given a string and a number K.Print every kth character from the beginning.\n",
        "```\n",
        "Sample Testcase :\n",
        "INPUT\n",
        "string 3\n",
        "OUTPUT\n",
        "r g\n",
        "```"
      ],
      "metadata": {
        "id": "cBl45yTiuG9f"
      }
    },
    {
      "cell_type": "code",
      "source": [
        "inp = input().split()\n",
        "\n",
        "string, k = inp[0], int(inp[1])\n",
        "\n",
        "def dummy(string, k):\n",
        "\n",
        "    var = [string[i] for i in range(k-1, len(string), k)]\n",
        "    # var = [i for i in range(k-1, len(string), k)]\n",
        "    return \" \".join(var)\n",
        "    # return var\n",
        "print(dummy(string, k))\n"
      ],
      "metadata": {
        "id": "4X-pH7pUxhmb"
      },
      "execution_count": null,
      "outputs": []
    },
    {
      "cell_type": "code",
      "source": [
        "for i in range(2, 6, 3):\n",
        "  print(i)"
      ],
      "metadata": {
        "id": "DNhhpQvGcV0y"
      },
      "execution_count": null,
      "outputs": []
    },
    {
      "cell_type": "markdown",
      "source": [
        "Given a string S of length N, reverse the case of each letter.\n",
        "Input Size : N <= 100\n",
        "```\n",
        "Sample Testcase :\n",
        "INPUT\n",
        "HeLlo\n",
        "OUTPUT\n",
        "hElLO\n",
        "```"
      ],
      "metadata": {
        "id": "Ifb1Lsk50reN"
      }
    },
    {
      "cell_type": "code",
      "source": [
        "def rev_st(s):\n",
        "  return s.swapcase()\n",
        "\n",
        "rev_st(\"HeLlo\")"
      ],
      "metadata": {
        "id": "Ls5hPu47yylU"
      },
      "execution_count": null,
      "outputs": []
    },
    {
      "cell_type": "markdown",
      "source": [
        "Given a number N and an array of N strings,Print yes, if all strings have atleast one vowel in them otherwise print no.\n",
        "Input Size : N <= 1000\n",
        "```\n",
        "Sample Testcase :\n",
        "INPUT\n",
        "5\n",
        "code\n",
        "overload\n",
        "vishal\n",
        "sundar\n",
        "anish\n",
        "OUTPUT\n",
        "yes\n",
        "```"
      ],
      "metadata": {
        "id": "9SeBFapxE9su"
      }
    },
    {
      "cell_type": "code",
      "source": [
        "n = int(input())\n",
        "arr = [input().strip() for _ in range(n)]\n",
        "\n",
        "def dummy(arr):\n",
        "  vowel = {\"a\",\"e\",\"i\",\"o\",\"u\"}\n",
        "  for string in arr:\n",
        "    if not any(word in vowel for word in string.lower()):\n",
        "      return \"no\"\n",
        "  return \"yes\"\n",
        "\n",
        "print(dummy(arr))\n"
      ],
      "metadata": {
        "id": "EJ5k-kVdzPwi"
      },
      "execution_count": null,
      "outputs": []
    },
    {
      "cell_type": "markdown",
      "source": [
        "Given a string 'S' swap the even and odd characters starting from index 1(Assume the index starts from 0).\n",
        "Input Size : |s| <= 10000000(complexity O(n))\n",
        "```\n",
        "Sample Testcase :\n",
        "INPUT\n",
        "codekata\n",
        "OUTPUT\n",
        "ocedakat\n",
        "```"
      ],
      "metadata": {
        "id": "8C-_aFDmKYg2"
      }
    },
    {
      "cell_type": "code",
      "source": [
        "s = input()\n",
        "\n",
        "def dummy(s):\n",
        "  list_s = list(s)\n",
        "\n",
        "  for i in range(0, len(s)-1 , 2):\n",
        "    list_s[i] , list_s[i+1] = list_s[i+1], list_s[i]\n",
        "\n",
        "  return \"\".join(list_s)\n",
        "\n",
        "print(dummy(s))"
      ],
      "metadata": {
        "id": "KrrKhIJhHIy8"
      },
      "execution_count": null,
      "outputs": []
    },
    {
      "cell_type": "code",
      "source": [
        "for i in range(0, len(s)-1 , 2):\n",
        "  print(i)"
      ],
      "metadata": {
        "id": "B3lBaIv2JRQ5"
      },
      "execution_count": null,
      "outputs": []
    },
    {
      "cell_type": "markdown",
      "source": [
        "Given 2 numbers N,K followed by a sorted array of N elements, search and tell if an element K is present in the array.print 'yes' if element is present otherwise print 'no'.\n",
        "Input Size : 1 <= N <= 1000000000000000(Do it in logN time complexity)\n",
        "```\n",
        "Sample Testcase :\n",
        "INPUT\n",
        "3 2\n",
        "2 3 7\n",
        "OUTPUT\n",
        "Yes\n",
        "```\n",
        "Binary Search"
      ],
      "metadata": {
        "id": "djse6NbPKgKH"
      }
    },
    {
      "cell_type": "code",
      "source": [
        "def dummy(n, k, arr):\n",
        "  low = 0\n",
        "  high = len(arr)-1\n",
        "  while low <= high:\n",
        "    mid = (low+high) //2\n",
        "    if arr[mid] == k:\n",
        "      return \"yes\"\n",
        "    if arr[mid] < k:\n",
        "      low = mid+1\n",
        "    else:\n",
        "      high =mid-1\n",
        "  return \"no\"\n",
        "\n",
        "n,k = map(int, input().split())\n",
        "arr = list(map(int, input().split()))\n",
        "print(dummy(n,k,arr))"
      ],
      "metadata": {
        "id": "syOm7PQyKg7F"
      },
      "execution_count": null,
      "outputs": []
    },
    {
      "cell_type": "markdown",
      "source": [
        "Given a number N and an array of N elements, every number is repeated except for one. Print that one number.\n",
        "Input Size : 1 <= N <= 100000\n",
        "```\n",
        "Sample Testcase :\n",
        "INPUT\n",
        "10\n",
        "1 2 3 2 3 3 2 5 5 2\n",
        "OUTPUT\n",
        "1\n",
        "```"
      ],
      "metadata": {
        "id": "AKp7d57c7v4l"
      }
    },
    {
      "cell_type": "code",
      "source": [
        "from collections import Counter\n",
        "Counter(arr)"
      ],
      "metadata": {
        "id": "U3GXUQN-4hRZ"
      },
      "execution_count": null,
      "outputs": []
    },
    {
      "cell_type": "code",
      "source": [
        "from collections import Counter\n",
        "\n",
        "def dummy(arr):\n",
        "\n",
        "  counts = Counter(arr)\n",
        "\n",
        "  for value, count in counts.items():\n",
        "    if count == 1:\n",
        "      return value\n",
        "\n",
        "n = int(input())\n",
        "arr = list(map(int, input().split()))\n",
        "\n",
        "print(dummy(arr))\n"
      ],
      "metadata": {
        "id": "1s6JcmTx8Fem"
      },
      "execution_count": null,
      "outputs": []
    },
    {
      "cell_type": "markdown",
      "source": [
        "Given a number N followed by N numbers. Keep the count of each number and print the maximum repeating number.\n",
        "Input Size : N <= 100000\n",
        "```\n",
        "Sample Testcase :\n",
        "INPUT\n",
        "5\n",
        "15 5 -20 -20 -45\n",
        "OUTPUT\n",
        "-20\n",
        "```"
      ],
      "metadata": {
        "id": "Kw68CLo1Fbi2"
      }
    },
    {
      "cell_type": "code",
      "source": [
        "arr = [15, 5 ,-20 ,-20, -45]\n",
        "counts = Counter(arr)\n",
        "counts\n"
      ],
      "metadata": {
        "id": "GT0-CpG2-qOq"
      },
      "execution_count": null,
      "outputs": []
    },
    {
      "cell_type": "code",
      "source": [
        "n = int(input())\n",
        "arr = list(map(int, input().split()))\n",
        "\n",
        "from collections import Counter\n",
        "\n",
        "def max_(arr):\n",
        "\n",
        "    counts = Counter(arr)\n",
        "\n",
        "    max_count = -1\n",
        "    value_ = None\n",
        "    for value, count in counts.items():\n",
        "        if count > max_count:\n",
        "            max_count  = count\n",
        "            value_ = value\n",
        "\n",
        "    return value_\n",
        "\n",
        "print(max_(arr))\n",
        "\n"
      ],
      "metadata": {
        "id": "Bzfm3mOMCPN_"
      },
      "execution_count": null,
      "outputs": []
    },
    {
      "cell_type": "markdown",
      "source": [],
      "metadata": {
        "id": "VEvwUvvi84R-"
      }
    },
    {
      "cell_type": "code",
      "source": [
        "n = int(input())\n",
        "arr = list(map(int, input().split()))\n",
        "\n",
        "def rev_str(arr):\n",
        "\n",
        "    var = arr[::-1]\n",
        "\n",
        "    return (\"->\".join(map(str, var)))\n",
        "\n",
        "print(rev_str(arr))"
      ],
      "metadata": {
        "id": "r07xGR2F84Xh"
      },
      "execution_count": null,
      "outputs": []
    },
    {
      "cell_type": "markdown",
      "source": [
        "# Linked list"
      ],
      "metadata": {
        "id": "m5ZAPT_JgRZo"
      }
    },
    {
      "cell_type": "code",
      "source": [
        "class ListNode:\n",
        "    def __init__(self, value=0, next=None):\n",
        "        self.value = value\n",
        "        self.next = next\n",
        "\n",
        "# Simple function to create a linked list from a list\n",
        "def create_linked_list(values):\n",
        "    if not values:\n",
        "        return None  # Return None if the list is empty\n",
        "\n",
        "    head = ListNode(values[0])  # Create the head node\n",
        "    current = head\n",
        "    for value in values[1:]:\n",
        "        current.next = ListNode(value)  # Link the next node\n",
        "        current = current.next  # Move to the next node\n",
        "\n",
        "    return head\n",
        "\n",
        "# Function to print the linked list\n",
        "def print_linked_list(head):\n",
        "    while head:\n",
        "        print(head.value, end=\" -> \" if head.next else \"\\n\")\n",
        "        head = head.next\n",
        "\n",
        "# Create a linked list from a list of values\n",
        "values = [10, 20, 30, 40]\n",
        "head = create_linked_list(values)\n",
        "\n",
        "# Print the linked list\n",
        "print_linked_list(head)\n"
      ],
      "metadata": {
        "id": "TplUbzySU7qR"
      },
      "execution_count": null,
      "outputs": []
    },
    {
      "cell_type": "markdown",
      "source": [
        "Access Specific Element by Index\n",
        "If you want to access a specific element (e.g., at index k), traverse the list while maintaining a counter."
      ],
      "metadata": {
        "id": "iT4DI47yeZKQ"
      }
    },
    {
      "cell_type": "code",
      "source": [
        "def get_element_at_index(head, index):\n",
        "    current = head\n",
        "    counter = 0\n",
        "    while current:\n",
        "        if counter == index:  # Check if the current index matches the target\n",
        "            return current.value\n",
        "        current = current.next\n",
        "        counter += 1\n",
        "    return None  # Return None if index is out of bounds\n",
        "\n",
        "# Access the element at index 2\n",
        "index = 2\n",
        "element = get_element_at_index(head, index)\n",
        "print(f\"Element at index {index}: {element}\")"
      ],
      "metadata": {
        "id": "QZrc_yfBc_j2"
      },
      "execution_count": null,
      "outputs": []
    },
    {
      "cell_type": "code",
      "source": [
        "# Function to reverse the linked list\n",
        "def reverse_linked_list(head):\n",
        "    prev = None\n",
        "    current = head\n",
        "\n",
        "    while current:\n",
        "        next_node = current.next  # Store the next node\n",
        "        current.next = prev       # Reverse the link\n",
        "        prev = current            # Move prev to current\n",
        "        current = next_node       # Move current to the next node\n",
        "\n",
        "    return prev"
      ],
      "metadata": {
        "id": "i3qBLY8udBjO"
      },
      "execution_count": null,
      "outputs": []
    },
    {
      "cell_type": "code",
      "source": [
        "rev = reverse_linked_list(head)\n",
        "print_linked_list(rev)"
      ],
      "metadata": {
        "id": "UDXeh2A4f67y"
      },
      "execution_count": null,
      "outputs": []
    },
    {
      "cell_type": "markdown",
      "source": [
        "## middle of a linked list"
      ],
      "metadata": {
        "id": "6J_BIS2d5E4b"
      }
    },
    {
      "cell_type": "code",
      "source": [
        "class ListNode:\n",
        "    def __init__(self, value=0, next=None):\n",
        "        self.value = value\n",
        "        self.next = next\n",
        "\n",
        "# Function to find the middle of the linked list\n",
        "def find_middle(head):\n",
        "    slow = head\n",
        "    fast = head\n",
        "\n",
        "    while fast and fast.next:\n",
        "        slow = slow.next  # Move slow one step\n",
        "        fast = fast.next.next  # Move fast two steps\n",
        "\n",
        "    return slow  # Slow is now at the middle\n",
        "\n",
        "# Helper function to create a linked list\n",
        "def create_linked_list(values):\n",
        "    if not values:\n",
        "        return None\n",
        "    head = ListNode(values[0])\n",
        "    current = head\n",
        "    for value in values[1:]:\n",
        "        current.next = ListNode(value)\n",
        "        current = current.next\n",
        "    return head\n",
        "\n",
        "# Helper function to print a linked list\n",
        "def print_linked_list(head):\n",
        "    while head:\n",
        "        print(head.value, end=\" -> \" if head.next else \"\\n\")\n",
        "        head = head.next\n",
        "\n",
        "\n",
        "# Create a linked list\n",
        "values = [1, 2, 3, 4, 5]\n",
        "head = create_linked_list(values)\n",
        "\n",
        "# Print the original list\n",
        "print(\"Original Linked List:\")\n",
        "print_linked_list(head)\n",
        "\n",
        "# Find the middle of the linked list\n",
        "middle = find_middle(head)\n",
        "print(f\"Middle of the Linked List: {middle.value}\")\n"
      ],
      "metadata": {
        "id": "RSEF89d-gnTk"
      },
      "execution_count": null,
      "outputs": []
    },
    {
      "cell_type": "markdown",
      "source": [
        "#  Balanced Parentheses"
      ],
      "metadata": {
        "id": "uSokzHaQMq8X"
      }
    },
    {
      "cell_type": "code",
      "source": [
        "def isBalanced(s):\n",
        "    stack = []\n",
        "    matching_brackets = {')': '(', '}': '{', ']': '['}\n",
        "    for char in s:\n",
        "        if char in matching_brackets.values():\n",
        "            stack.append(char)\n",
        "        elif char in matching_brackets.keys():\n",
        "            if stack and stack[-1] == matching_brackets[char]:\n",
        "                stack.pop()\n",
        "            else:\n",
        "                return False\n",
        "    return not stack"
      ],
      "metadata": {
        "id": "U-JXsRxRMrDA"
      },
      "execution_count": null,
      "outputs": []
    },
    {
      "cell_type": "code",
      "source": [
        "print(isBalanced(\"{()}\"))"
      ],
      "metadata": {
        "id": "tvmQLGSzMyzr"
      },
      "execution_count": null,
      "outputs": []
    },
    {
      "cell_type": "code",
      "source": [
        "print(isBalanced(\"{)}\"))"
      ],
      "metadata": {
        "id": "EE1Kmj7zNe_0"
      },
      "execution_count": null,
      "outputs": []
    }
  ]
}